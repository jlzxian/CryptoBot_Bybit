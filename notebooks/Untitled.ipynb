{
 "cells": [
  {
   "cell_type": "code",
   "execution_count": 1,
   "id": "030c65d5",
   "metadata": {},
   "outputs": [],
   "source": [
    "\"\"\"\n",
    "To see which endpoints and topics are available, check the Bybit API \n",
    "documentation: https://bybit-exchange.github.io/docs/inverse/#t-websocket\n",
    "There are several WSS URLs offered by Bybit, which pybit manages for you.\n",
    "However, you can set a custom `domain` as shown below.\n",
    "\"\"\"\n",
    "\n",
    "from time import sleep\n",
    "\n",
    "# Import your desired markets from pybit\n",
    "from pybit import usdt_perpetual\n",
    "from pybit import spot\n",
    "\n",
    "\"\"\"\n",
    "An alternative way to import:\n",
    "from pybit.inverse_perpetual import WebSocket, HTTP\n",
    "\"\"\"\n",
    "\n",
    "# Set up logging (optional)\n",
    "import logging\n",
    "logging.basicConfig(filename=\"pybit.log\", level=logging.DEBUG,\n",
    "                    format=\"%(asctime)s %(levelname)s %(message)s\")"
   ]
  },
  {
   "cell_type": "code",
   "execution_count": 2,
   "id": "7d72e2ab",
   "metadata": {},
   "outputs": [],
   "source": [
    "# Connect with authentication!\n",
    "ws_inverse = usdt_perpetual.WebSocket(\n",
    "    test=True,\n",
    "    api_key=\"7eRYRS7jW2Tz2OhT2r\",  # omit the api_key & secret to connect w/o authentication\n",
    "    api_secret=\"u4PKxSmWj0iyxA7rD95mwzJKV6wpsMXppVhR\",\n",
    "    # to pass a custom domain in case of connectivity problems, you can use:\n",
    "    domain=\"bytick\"  # the default is \"bybit\"\n",
    ")"
   ]
  },
  {
   "cell_type": "code",
   "execution_count": 3,
   "id": "6d053147",
   "metadata": {},
   "outputs": [
    {
     "name": "stdout",
     "output_type": "stream",
     "text": [
      "40720.50\n",
      "40720.50\n",
      "40720.50\n",
      "40720.50\n",
      "40720.50\n",
      "40720.50\n",
      "40720.50\n",
      "40720.50\n",
      "40720.50\n",
      "40720.50\n",
      "40720.50\n",
      "40720.50\n",
      "40720.50\n",
      "40720.50\n",
      "40720.50\n",
      "40720.50\n",
      "40720.50\n",
      "40720.50\n",
      "40720.50\n",
      "40720.50\n",
      "40720.50\n",
      "40720.50\n",
      "40720.50\n",
      "40720.50\n",
      "40718.50\n",
      "40718.50\n",
      "40718.50\n",
      "40718.50\n",
      "40718.50\n",
      "40718.50\n",
      "40718.50\n",
      "40718.50\n",
      "40713.50\n",
      "40713.50\n",
      "40713.50\n",
      "40713.50\n",
      "40713.50\n",
      "40713.50\n",
      "40713.50\n",
      "40713.50\n",
      "40713.50\n",
      "40714.50\n",
      "40714.50\n",
      "40714.50\n",
      "40714.50\n",
      "40714.50\n",
      "40714.50\n",
      "40714.50\n",
      "40714.50\n",
      "40714.50\n",
      "40714.50\n",
      "40714.50\n",
      "40717.50\n",
      "40717.50\n",
      "40717.50\n",
      "40717.50\n",
      "40717.50\n",
      "40717.50\n",
      "40717.50\n",
      "40717.50\n",
      "40717.50\n",
      "40717.50\n",
      "40717.50\n",
      "40717.50\n",
      "40717.50\n",
      "40717.50\n",
      "40713.50\n",
      "40713.50\n",
      "40713.50\n",
      "40713.50\n",
      "40713.50\n",
      "40713.50\n",
      "40713.50\n",
      "40713.50\n",
      "40713.50\n",
      "40713.50\n",
      "40713.50\n",
      "40713.50\n",
      "40713.50\n",
      "40713.50\n",
      "40713.50\n",
      "40713.50\n",
      "40713.50\n",
      "40713.50\n",
      "40713.50\n",
      "40713.50\n",
      "40713.50\n",
      "40713.50\n",
      "40713.50\n",
      "40713.50\n",
      "40713.50\n",
      "40713.50\n",
      "40713.50\n",
      "40713.50\n",
      "40713.50\n",
      "40713.50\n",
      "40705.50\n",
      "40705.50\n",
      "40705.50\n",
      "40705.50\n",
      "40705.50\n",
      "40705.50\n",
      "40705.50\n",
      "40705.50\n",
      "40705.50\n",
      "40705.50\n",
      "40705.50\n",
      "40711.50\n",
      "40711.50\n",
      "40711.50\n",
      "40711.50\n",
      "40711.50\n",
      "40711.50\n",
      "40711.50\n",
      "40711.50\n",
      "40711.50\n"
     ]
    }
   ],
   "source": [
    "# Let's fetch the orderbook for BTCUSD. First, we'll define a function.\n",
    "\n",
    "def handle_orderbook(message):\n",
    "    # I will be called every time there is new orderbook data!\n",
    "    #print(message['data'], \"\\n\\n\")\n",
    "#     data = message['data']\n",
    "#     for entry in data:\n",
    "#         print(entry['price'])\n",
    "    \n",
    "#     orderbook_data = message[\"data\"]\n",
    "    print(message['data']['last_price'])\n",
    "\n",
    "# Now, we can subscribe to the orderbook stream and pass our arguments:\n",
    "# our function and our selected symbol.\n",
    "# To subscribe to multiple symbols, pass a list: [\"BTCUSD\", \"ETHUSD\"]\n",
    "# To subscribe to all symbols, pass \"*\".\n",
    "#ws_inverse.orderbook_25_stream(handle_orderbook, \"BTCUSDT\")\n",
    "ws_inverse.instrument_info_stream(handle_orderbook, 'BTCUSDT')\n"
   ]
  },
  {
   "cell_type": "code",
   "execution_count": 14,
   "id": "b1614a56",
   "metadata": {},
   "outputs": [
    {
     "name": "stdout",
     "output_type": "stream",
     "text": [
      "{'topic': 'orderBookL2_25.BTCUSD', 'type': 'snapshot', 'data': [{'price': '40621.00', 'symbol': 'BTCUSD', 'id': 406210000, 'side': 'Buy', 'size': 25}, {'price': '40622.00', 'symbol': 'BTCUSD', 'id': 406220000, 'side': 'Buy', 'size': 53}, {'price': '40623.00', 'symbol': 'BTCUSD', 'id': 406230000, 'side': 'Buy', 'size': 25}, {'price': '40624.00', 'symbol': 'BTCUSD', 'id': 406240000, 'side': 'Buy', 'size': 23}, {'price': '40625.00', 'symbol': 'BTCUSD', 'id': 406250000, 'side': 'Buy', 'size': 25}, {'price': '40626.00', 'symbol': 'BTCUSD', 'id': 406260000, 'side': 'Buy', 'size': 53}, {'price': '40627.00', 'symbol': 'BTCUSD', 'id': 406270000, 'side': 'Buy', 'size': 25}, {'price': '40628.00', 'symbol': 'BTCUSD', 'id': 406280000, 'side': 'Buy', 'size': 23}, {'price': '40629.00', 'symbol': 'BTCUSD', 'id': 406290000, 'side': 'Buy', 'size': 25}, {'price': '40630.00', 'symbol': 'BTCUSD', 'id': 406300000, 'side': 'Buy', 'size': 53}, {'price': '40632.00', 'symbol': 'BTCUSD', 'id': 406320000, 'side': 'Buy', 'size': 23}, {'price': '40633.00', 'symbol': 'BTCUSD', 'id': 406330000, 'side': 'Buy', 'size': 1025}, {'price': '40634.00', 'symbol': 'BTCUSD', 'id': 406340000, 'side': 'Buy', 'size': 53}, {'price': '40637.00', 'symbol': 'BTCUSD', 'id': 406370000, 'side': 'Buy', 'size': 25}, {'price': '40638.00', 'symbol': 'BTCUSD', 'id': 406380000, 'side': 'Buy', 'size': 53}, {'price': '40642.00', 'symbol': 'BTCUSD', 'id': 406420000, 'side': 'Buy', 'size': 53}, {'price': '40688.00', 'symbol': 'BTCUSD', 'id': 406880000, 'side': 'Buy', 'size': 44140}, {'price': '40689.50', 'symbol': 'BTCUSD', 'id': 406895000, 'side': 'Buy', 'size': 50603}, {'price': '40701.00', 'symbol': 'BTCUSD', 'id': 407010000, 'side': 'Buy', 'size': 69790}, {'price': '40701.50', 'symbol': 'BTCUSD', 'id': 407015000, 'side': 'Buy', 'size': 148470}, {'price': '40702.00', 'symbol': 'BTCUSD', 'id': 407020000, 'side': 'Buy', 'size': 110640}, {'price': '40702.50', 'symbol': 'BTCUSD', 'id': 407025000, 'side': 'Buy', 'size': 125220}, {'price': '40703.00', 'symbol': 'BTCUSD', 'id': 407030000, 'side': 'Buy', 'size': 53500}, {'price': '40703.50', 'symbol': 'BTCUSD', 'id': 407035000, 'side': 'Buy', 'size': 99150}, {'price': '40704.00', 'symbol': 'BTCUSD', 'id': 407040000, 'side': 'Buy', 'size': 84555}, {'price': '40706.50', 'symbol': 'BTCUSD', 'id': 407065000, 'side': 'Sell', 'size': 112550}, {'price': '40707.00', 'symbol': 'BTCUSD', 'id': 407070000, 'side': 'Sell', 'size': 89600}, {'price': '40707.50', 'symbol': 'BTCUSD', 'id': 407075000, 'side': 'Sell', 'size': 7510}, {'price': '40708.00', 'symbol': 'BTCUSD', 'id': 407080000, 'side': 'Sell', 'size': 163580}, {'price': '40708.50', 'symbol': 'BTCUSD', 'id': 407085000, 'side': 'Sell', 'size': 37790}, {'price': '40709.00', 'symbol': 'BTCUSD', 'id': 407090000, 'side': 'Sell', 'size': 80370}, {'price': '40709.50', 'symbol': 'BTCUSD', 'id': 407095000, 'side': 'Sell', 'size': 84330}, {'price': '40719.50', 'symbol': 'BTCUSD', 'id': 407195000, 'side': 'Sell', 'size': 147160}, {'price': '40763.50', 'symbol': 'BTCUSD', 'id': 407635000, 'side': 'Sell', 'size': 400}, {'price': '40773.50', 'symbol': 'BTCUSD', 'id': 407735000, 'side': 'Sell', 'size': 1}, {'price': '40774.50', 'symbol': 'BTCUSD', 'id': 407745000, 'side': 'Sell', 'size': 2}, {'price': '40775.50', 'symbol': 'BTCUSD', 'id': 407755000, 'side': 'Sell', 'size': 1}, {'price': '40776.50', 'symbol': 'BTCUSD', 'id': 407765000, 'side': 'Sell', 'size': 2}, {'price': '40777.50', 'symbol': 'BTCUSD', 'id': 407775000, 'side': 'Sell', 'size': 1}, {'price': '40778.50', 'symbol': 'BTCUSD', 'id': 407785000, 'side': 'Sell', 'size': 1}, {'price': '40779.50', 'symbol': 'BTCUSD', 'id': 407795000, 'side': 'Sell', 'size': 1}, {'price': '40780.50', 'symbol': 'BTCUSD', 'id': 407805000, 'side': 'Sell', 'size': 2}, {'price': '40781.50', 'symbol': 'BTCUSD', 'id': 407815000, 'side': 'Sell', 'size': 1}, {'price': '40782.50', 'symbol': 'BTCUSD', 'id': 407825000, 'side': 'Sell', 'size': 2}, {'price': '40783.50', 'symbol': 'BTCUSD', 'id': 407835000, 'side': 'Sell', 'size': 1}, {'price': '40784.50', 'symbol': 'BTCUSD', 'id': 407845000, 'side': 'Sell', 'size': 3}, {'price': '40785.50', 'symbol': 'BTCUSD', 'id': 407855000, 'side': 'Sell', 'size': 29496}, {'price': '40786.50', 'symbol': 'BTCUSD', 'id': 407865000, 'side': 'Sell', 'size': 2}, {'price': '40796.50', 'symbol': 'BTCUSD', 'id': 407965000, 'side': 'Sell', 'size': 89392}, {'price': '40836.00', 'symbol': 'BTCUSD', 'id': 408360000, 'side': 'Sell', 'size': 53}], 'cross_seq': 4992464523, 'timestamp_e6': 1650335610333187}\n",
      "{'topic': 'orderBookL2_25.BTCUSD', 'type': 'snapshot', 'data': [{'price': '40621.00', 'symbol': 'BTCUSD', 'id': 406210000, 'side': 'Buy', 'size': 25}, {'price': '40622.00', 'symbol': 'BTCUSD', 'id': 406220000, 'side': 'Buy', 'size': 53}, {'price': '40623.00', 'symbol': 'BTCUSD', 'id': 406230000, 'side': 'Buy', 'size': 25}, {'price': '40624.00', 'symbol': 'BTCUSD', 'id': 406240000, 'side': 'Buy', 'size': 23}, {'price': '40625.00', 'symbol': 'BTCUSD', 'id': 406250000, 'side': 'Buy', 'size': 25}, {'price': '40626.00', 'symbol': 'BTCUSD', 'id': 406260000, 'side': 'Buy', 'size': 53}, {'price': '40627.00', 'symbol': 'BTCUSD', 'id': 406270000, 'side': 'Buy', 'size': 25}, {'price': '40628.00', 'symbol': 'BTCUSD', 'id': 406280000, 'side': 'Buy', 'size': 23}, {'price': '40629.00', 'symbol': 'BTCUSD', 'id': 406290000, 'side': 'Buy', 'size': 25}, {'price': '40630.00', 'symbol': 'BTCUSD', 'id': 406300000, 'side': 'Buy', 'size': 53}, {'price': '40632.00', 'symbol': 'BTCUSD', 'id': 406320000, 'side': 'Buy', 'size': 23}, {'price': '40633.00', 'symbol': 'BTCUSD', 'id': 406330000, 'side': 'Buy', 'size': 1025}, {'price': '40634.00', 'symbol': 'BTCUSD', 'id': 406340000, 'side': 'Buy', 'size': 53}, {'price': '40637.00', 'symbol': 'BTCUSD', 'id': 406370000, 'side': 'Buy', 'size': 25}, {'price': '40638.00', 'symbol': 'BTCUSD', 'id': 406380000, 'side': 'Buy', 'size': 53}, {'price': '40642.00', 'symbol': 'BTCUSD', 'id': 406420000, 'side': 'Buy', 'size': 53}, {'price': '40688.00', 'symbol': 'BTCUSD', 'id': 406880000, 'side': 'Buy', 'size': 44140}, {'price': '40689.50', 'symbol': 'BTCUSD', 'id': 406895000, 'side': 'Buy', 'size': 50603}, {'price': '40701.00', 'symbol': 'BTCUSD', 'id': 407010000, 'side': 'Buy', 'size': 176200}, {'price': '40701.50', 'symbol': 'BTCUSD', 'id': 407015000, 'side': 'Buy', 'size': 9640}, {'price': '40702.00', 'symbol': 'BTCUSD', 'id': 407020000, 'side': 'Buy', 'size': 110640}, {'price': '40702.50', 'symbol': 'BTCUSD', 'id': 407025000, 'side': 'Buy', 'size': 125220}, {'price': '40703.00', 'symbol': 'BTCUSD', 'id': 407030000, 'side': 'Buy', 'size': 53500}, {'price': '40703.50', 'symbol': 'BTCUSD', 'id': 407035000, 'side': 'Buy', 'size': 99150}, {'price': '40704.00', 'symbol': 'BTCUSD', 'id': 407040000, 'side': 'Buy', 'size': 84555}, {'price': '40706.50', 'symbol': 'BTCUSD', 'id': 407065000, 'side': 'Sell', 'size': 112550}, {'price': '40707.00', 'symbol': 'BTCUSD', 'id': 407070000, 'side': 'Sell', 'size': 89600}, {'price': '40707.50', 'symbol': 'BTCUSD', 'id': 407075000, 'side': 'Sell', 'size': 136900}, {'price': '40708.00', 'symbol': 'BTCUSD', 'id': 407080000, 'side': 'Sell', 'size': 163580}, {'price': '40708.50', 'symbol': 'BTCUSD', 'id': 407085000, 'side': 'Sell', 'size': 37790}, {'price': '40709.00', 'symbol': 'BTCUSD', 'id': 407090000, 'side': 'Sell', 'size': 80370}, {'price': '40709.50', 'symbol': 'BTCUSD', 'id': 407095000, 'side': 'Sell', 'size': 84330}, {'price': '40719.50', 'symbol': 'BTCUSD', 'id': 407195000, 'side': 'Sell', 'size': 34750}, {'price': '40763.50', 'symbol': 'BTCUSD', 'id': 407635000, 'side': 'Sell', 'size': 400}, {'price': '40773.50', 'symbol': 'BTCUSD', 'id': 407735000, 'side': 'Sell', 'size': 1}, {'price': '40774.50', 'symbol': 'BTCUSD', 'id': 407745000, 'side': 'Sell', 'size': 2}, {'price': '40775.50', 'symbol': 'BTCUSD', 'id': 407755000, 'side': 'Sell', 'size': 1}, {'price': '40776.50', 'symbol': 'BTCUSD', 'id': 407765000, 'side': 'Sell', 'size': 2}, {'price': '40777.50', 'symbol': 'BTCUSD', 'id': 407775000, 'side': 'Sell', 'size': 1}, {'price': '40778.50', 'symbol': 'BTCUSD', 'id': 407785000, 'side': 'Sell', 'size': 1}, {'price': '40779.50', 'symbol': 'BTCUSD', 'id': 407795000, 'side': 'Sell', 'size': 1}, {'price': '40780.50', 'symbol': 'BTCUSD', 'id': 407805000, 'side': 'Sell', 'size': 2}, {'price': '40781.50', 'symbol': 'BTCUSD', 'id': 407815000, 'side': 'Sell', 'size': 1}, {'price': '40782.50', 'symbol': 'BTCUSD', 'id': 407825000, 'side': 'Sell', 'size': 2}, {'price': '40783.50', 'symbol': 'BTCUSD', 'id': 407835000, 'side': 'Sell', 'size': 1}, {'price': '40784.50', 'symbol': 'BTCUSD', 'id': 407845000, 'side': 'Sell', 'size': 3}, {'price': '40785.50', 'symbol': 'BTCUSD', 'id': 407855000, 'side': 'Sell', 'size': 29496}, {'price': '40786.50', 'symbol': 'BTCUSD', 'id': 407865000, 'side': 'Sell', 'size': 2}, {'price': '40796.50', 'symbol': 'BTCUSD', 'id': 407965000, 'side': 'Sell', 'size': 89392}, {'price': '40836.00', 'symbol': 'BTCUSD', 'id': 408360000, 'side': 'Sell', 'size': 53}], 'cross_seq': 4992464529, 'timestamp_e6': 1650335611293468}\n"
     ]
    }
   ],
   "source": [
    "# To subscribe to private data, the process is the same:\n",
    "def handle_position(message):\n",
    "    # I will be called every time there is new position data!\n",
    "    print(message)\n",
    "\n",
    "ws_inverse.position_stream(handle_position)"
   ]
  },
  {
   "cell_type": "code",
   "execution_count": 15,
   "id": "e6767003",
   "metadata": {},
   "outputs": [
    {
     "name": "stdout",
     "output_type": "stream",
     "text": [
      "{'topic': 'orderBookL2_25.BTCUSD', 'type': 'snapshot', 'data': [{'price': '40621.00', 'symbol': 'BTCUSD', 'id': 406210000, 'side': 'Buy', 'size': 25}, {'price': '40622.00', 'symbol': 'BTCUSD', 'id': 406220000, 'side': 'Buy', 'size': 53}, {'price': '40623.00', 'symbol': 'BTCUSD', 'id': 406230000, 'side': 'Buy', 'size': 25}, {'price': '40624.00', 'symbol': 'BTCUSD', 'id': 406240000, 'side': 'Buy', 'size': 23}, {'price': '40625.00', 'symbol': 'BTCUSD', 'id': 406250000, 'side': 'Buy', 'size': 25}, {'price': '40626.00', 'symbol': 'BTCUSD', 'id': 406260000, 'side': 'Buy', 'size': 53}, {'price': '40627.00', 'symbol': 'BTCUSD', 'id': 406270000, 'side': 'Buy', 'size': 25}, {'price': '40628.00', 'symbol': 'BTCUSD', 'id': 406280000, 'side': 'Buy', 'size': 23}, {'price': '40629.00', 'symbol': 'BTCUSD', 'id': 406290000, 'side': 'Buy', 'size': 25}, {'price': '40630.00', 'symbol': 'BTCUSD', 'id': 406300000, 'side': 'Buy', 'size': 53}, {'price': '40632.00', 'symbol': 'BTCUSD', 'id': 406320000, 'side': 'Buy', 'size': 23}, {'price': '40633.00', 'symbol': 'BTCUSD', 'id': 406330000, 'side': 'Buy', 'size': 1025}, {'price': '40634.00', 'symbol': 'BTCUSD', 'id': 406340000, 'side': 'Buy', 'size': 53}, {'price': '40637.00', 'symbol': 'BTCUSD', 'id': 406370000, 'side': 'Buy', 'size': 25}, {'price': '40638.00', 'symbol': 'BTCUSD', 'id': 406380000, 'side': 'Buy', 'size': 53}, {'price': '40642.00', 'symbol': 'BTCUSD', 'id': 406420000, 'side': 'Buy', 'size': 53}, {'price': '40688.00', 'symbol': 'BTCUSD', 'id': 406880000, 'side': 'Buy', 'size': 44140}, {'price': '40689.50', 'symbol': 'BTCUSD', 'id': 406895000, 'side': 'Buy', 'size': 50603}, {'price': '40701.00', 'symbol': 'BTCUSD', 'id': 407010000, 'side': 'Buy', 'size': 176200}, {'price': '40701.50', 'symbol': 'BTCUSD', 'id': 407015000, 'side': 'Buy', 'size': 9640}, {'price': '40702.00', 'symbol': 'BTCUSD', 'id': 407020000, 'side': 'Buy', 'size': 13440}, {'price': '40702.50', 'symbol': 'BTCUSD', 'id': 407025000, 'side': 'Buy', 'size': 27780}, {'price': '40703.00', 'symbol': 'BTCUSD', 'id': 407030000, 'side': 'Buy', 'size': 53500}, {'price': '40703.50', 'symbol': 'BTCUSD', 'id': 407035000, 'side': 'Buy', 'size': 99150}, {'price': '40704.00', 'symbol': 'BTCUSD', 'id': 407040000, 'side': 'Buy', 'size': 84555}, {'price': '40706.50', 'symbol': 'BTCUSD', 'id': 407065000, 'side': 'Sell', 'size': 112550}, {'price': '40707.00', 'symbol': 'BTCUSD', 'id': 407070000, 'side': 'Sell', 'size': 13180}, {'price': '40707.50', 'symbol': 'BTCUSD', 'id': 407075000, 'side': 'Sell', 'size': 27430}, {'price': '40708.00', 'symbol': 'BTCUSD', 'id': 407080000, 'side': 'Sell', 'size': 163580}, {'price': '40708.50', 'symbol': 'BTCUSD', 'id': 407085000, 'side': 'Sell', 'size': 37790}, {'price': '40709.00', 'symbol': 'BTCUSD', 'id': 407090000, 'side': 'Sell', 'size': 80370}, {'price': '40709.50', 'symbol': 'BTCUSD', 'id': 407095000, 'side': 'Sell', 'size': 84330}, {'price': '40719.50', 'symbol': 'BTCUSD', 'id': 407195000, 'side': 'Sell', 'size': 195610}, {'price': '40763.50', 'symbol': 'BTCUSD', 'id': 407635000, 'side': 'Sell', 'size': 400}, {'price': '40773.50', 'symbol': 'BTCUSD', 'id': 407735000, 'side': 'Sell', 'size': 1}, {'price': '40774.50', 'symbol': 'BTCUSD', 'id': 407745000, 'side': 'Sell', 'size': 2}, {'price': '40775.50', 'symbol': 'BTCUSD', 'id': 407755000, 'side': 'Sell', 'size': 1}, {'price': '40776.50', 'symbol': 'BTCUSD', 'id': 407765000, 'side': 'Sell', 'size': 2}, {'price': '40777.50', 'symbol': 'BTCUSD', 'id': 407775000, 'side': 'Sell', 'size': 1}, {'price': '40778.50', 'symbol': 'BTCUSD', 'id': 407785000, 'side': 'Sell', 'size': 1}, {'price': '40779.50', 'symbol': 'BTCUSD', 'id': 407795000, 'side': 'Sell', 'size': 1}, {'price': '40780.50', 'symbol': 'BTCUSD', 'id': 407805000, 'side': 'Sell', 'size': 2}, {'price': '40781.50', 'symbol': 'BTCUSD', 'id': 407815000, 'side': 'Sell', 'size': 1}, {'price': '40782.50', 'symbol': 'BTCUSD', 'id': 407825000, 'side': 'Sell', 'size': 2}, {'price': '40783.50', 'symbol': 'BTCUSD', 'id': 407835000, 'side': 'Sell', 'size': 1}, {'price': '40784.50', 'symbol': 'BTCUSD', 'id': 407845000, 'side': 'Sell', 'size': 3}, {'price': '40785.50', 'symbol': 'BTCUSD', 'id': 407855000, 'side': 'Sell', 'size': 29496}, {'price': '40786.50', 'symbol': 'BTCUSD', 'id': 407865000, 'side': 'Sell', 'size': 2}, {'price': '40796.50', 'symbol': 'BTCUSD', 'id': 407965000, 'side': 'Sell', 'size': 89392}, {'price': '40836.00', 'symbol': 'BTCUSD', 'id': 408360000, 'side': 'Sell', 'size': 53}], 'cross_seq': 4992464534, 'timestamp_e6': 1650335613413284}\n",
      "{'topic': 'orderBookL2_25.BTCUSD', 'type': 'snapshot', 'data': [{'price': '40621.00', 'symbol': 'BTCUSD', 'id': 406210000, 'side': 'Buy', 'size': 25}, {'price': '40622.00', 'symbol': 'BTCUSD', 'id': 406220000, 'side': 'Buy', 'size': 53}, {'price': '40623.00', 'symbol': 'BTCUSD', 'id': 406230000, 'side': 'Buy', 'size': 25}, {'price': '40624.00', 'symbol': 'BTCUSD', 'id': 406240000, 'side': 'Buy', 'size': 23}, {'price': '40625.00', 'symbol': 'BTCUSD', 'id': 406250000, 'side': 'Buy', 'size': 25}, {'price': '40626.00', 'symbol': 'BTCUSD', 'id': 406260000, 'side': 'Buy', 'size': 53}, {'price': '40627.00', 'symbol': 'BTCUSD', 'id': 406270000, 'side': 'Buy', 'size': 25}, {'price': '40628.00', 'symbol': 'BTCUSD', 'id': 406280000, 'side': 'Buy', 'size': 23}, {'price': '40629.00', 'symbol': 'BTCUSD', 'id': 406290000, 'side': 'Buy', 'size': 25}, {'price': '40630.00', 'symbol': 'BTCUSD', 'id': 406300000, 'side': 'Buy', 'size': 53}, {'price': '40632.00', 'symbol': 'BTCUSD', 'id': 406320000, 'side': 'Buy', 'size': 23}, {'price': '40633.00', 'symbol': 'BTCUSD', 'id': 406330000, 'side': 'Buy', 'size': 1025}, {'price': '40634.00', 'symbol': 'BTCUSD', 'id': 406340000, 'side': 'Buy', 'size': 53}, {'price': '40637.00', 'symbol': 'BTCUSD', 'id': 406370000, 'side': 'Buy', 'size': 25}, {'price': '40638.00', 'symbol': 'BTCUSD', 'id': 406380000, 'side': 'Buy', 'size': 53}, {'price': '40642.00', 'symbol': 'BTCUSD', 'id': 406420000, 'side': 'Buy', 'size': 53}, {'price': '40688.00', 'symbol': 'BTCUSD', 'id': 406880000, 'side': 'Buy', 'size': 44140}, {'price': '40689.50', 'symbol': 'BTCUSD', 'id': 406895000, 'side': 'Buy', 'size': 50603}, {'price': '40701.00', 'symbol': 'BTCUSD', 'id': 407010000, 'side': 'Buy', 'size': 92120}, {'price': '40701.50', 'symbol': 'BTCUSD', 'id': 407015000, 'side': 'Buy', 'size': 169350}, {'price': '40702.00', 'symbol': 'BTCUSD', 'id': 407020000, 'side': 'Buy', 'size': 151100}, {'price': '40702.50', 'symbol': 'BTCUSD', 'id': 407025000, 'side': 'Buy', 'size': 27780}, {'price': '40703.00', 'symbol': 'BTCUSD', 'id': 407030000, 'side': 'Buy', 'size': 53500}, {'price': '40703.50', 'symbol': 'BTCUSD', 'id': 407035000, 'side': 'Buy', 'size': 99150}, {'price': '40704.00', 'symbol': 'BTCUSD', 'id': 407040000, 'side': 'Buy', 'size': 84555}, {'price': '40706.50', 'symbol': 'BTCUSD', 'id': 407065000, 'side': 'Sell', 'size': 49050}, {'price': '40707.00', 'symbol': 'BTCUSD', 'id': 407070000, 'side': 'Sell', 'size': 13180}, {'price': '40707.50', 'symbol': 'BTCUSD', 'id': 407075000, 'side': 'Sell', 'size': 27430}, {'price': '40708.00', 'symbol': 'BTCUSD', 'id': 407080000, 'side': 'Sell', 'size': 35190}, {'price': '40708.50', 'symbol': 'BTCUSD', 'id': 407085000, 'side': 'Sell', 'size': 147580}, {'price': '40709.00', 'symbol': 'BTCUSD', 'id': 407090000, 'side': 'Sell', 'size': 80370}, {'price': '40709.50', 'symbol': 'BTCUSD', 'id': 407095000, 'side': 'Sell', 'size': 84330}, {'price': '40719.50', 'symbol': 'BTCUSD', 'id': 407195000, 'side': 'Sell', 'size': 56150}, {'price': '40763.50', 'symbol': 'BTCUSD', 'id': 407635000, 'side': 'Sell', 'size': 400}, {'price': '40773.50', 'symbol': 'BTCUSD', 'id': 407735000, 'side': 'Sell', 'size': 1}, {'price': '40774.50', 'symbol': 'BTCUSD', 'id': 407745000, 'side': 'Sell', 'size': 2}, {'price': '40775.50', 'symbol': 'BTCUSD', 'id': 407755000, 'side': 'Sell', 'size': 1}, {'price': '40776.50', 'symbol': 'BTCUSD', 'id': 407765000, 'side': 'Sell', 'size': 2}, {'price': '40777.50', 'symbol': 'BTCUSD', 'id': 407775000, 'side': 'Sell', 'size': 1}, {'price': '40778.50', 'symbol': 'BTCUSD', 'id': 407785000, 'side': 'Sell', 'size': 1}, {'price': '40779.50', 'symbol': 'BTCUSD', 'id': 407795000, 'side': 'Sell', 'size': 1}, {'price': '40780.50', 'symbol': 'BTCUSD', 'id': 407805000, 'side': 'Sell', 'size': 2}, {'price': '40781.50', 'symbol': 'BTCUSD', 'id': 407815000, 'side': 'Sell', 'size': 1}, {'price': '40782.50', 'symbol': 'BTCUSD', 'id': 407825000, 'side': 'Sell', 'size': 2}, {'price': '40783.50', 'symbol': 'BTCUSD', 'id': 407835000, 'side': 'Sell', 'size': 1}, {'price': '40784.50', 'symbol': 'BTCUSD', 'id': 407845000, 'side': 'Sell', 'size': 3}, {'price': '40785.50', 'symbol': 'BTCUSD', 'id': 407855000, 'side': 'Sell', 'size': 29496}, {'price': '40786.50', 'symbol': 'BTCUSD', 'id': 407865000, 'side': 'Sell', 'size': 2}, {'price': '40796.50', 'symbol': 'BTCUSD', 'id': 407965000, 'side': 'Sell', 'size': 89392}, {'price': '40836.00', 'symbol': 'BTCUSD', 'id': 408360000, 'side': 'Sell', 'size': 53}], 'cross_seq': 4992464541, 'timestamp_e6': 1650335615254260}\n"
     ]
    },
    {
     "name": "stdout",
     "output_type": "stream",
     "text": [
      "{'topic': 'depth', 'params': {'symbol': 'BTCUSDT', 'binary': 'false', 'symbolName': 'BTCUSDT'}, 'data': {'s': 'BTCUSDT', 't': 1650335616084, 'v': '722916_1630619_2', 'b': [['39683.86', '0.000158'], ['39683.85', '0.001'], ['39390.2', '0.000425'], ['39381.13', '0.000302'], ['39326.57', '0.015649'], ['39311.88', '0.015422'], ['39301.52', '0.02155'], ['39301.51', '0.026022'], ['39276.46', '0.009544'], ['39264.6', '0.019654'], ['39255.43', '0.027999'], ['39251.41', '0.008698'], ['39232.06', '0.00741'], ['39232.05', '0.010325'], ['39231.44', '0.028113'], ['39226.35', '0.028537'], ['39200', '0.005183'], ['39146.3', '0.000425'], ['39000', '0.005514'], ['38800', '0.005183'], ['38750.8', '0.000302'], ['38400', '0.005183'], ['38320', '0.081663'], ['38000', '0.005183'], ['37600', '0.005183'], ['37360', '0.081663'], ['37200', '0.005183'], ['36834', '0.001668'], ['36800', '0.005183'], ['36400', '0.038429'], ['36000', '0.005183'], ['35600', '0.005183'], ['35440', '0.081663'], ['35200', '0.005183'], ['34800', '0.005183'], ['34480', '0.081663'], ['34400', '0.005183'], ['34000', '0.005183'], ['33600', '0.005183'], ['33520', '0.081663']], 'a': [['39763.03', '0.001'], ['39763.18', '1'], ['39878', '0.000424'], ['40000', '0.005177'], ['40121.9', '0.000424'], ['40221.99', '2929.417799'], ['40240', '0.081581'], ['40300', '100'], ['40331.13', '0.000602'], ['40365.8', '0.000424'], ['40400', '0.005177'], ['40412.36', '1'], ['40466.21', '0.000675'], ['40468.87', '0.000301'], ['40471.5', '0.02'], ['40500', '0.000301'], ['40516.21', '0.000675'], ['40600', '0.010476'], ['40609.7', '0.000424'], ['40655', '0.002'], ['40666', '45.993092'], ['40668.87', '0.000301'], ['40750', '0.000301'], ['40800', '0.006201'], ['40853.6', '0.000424'], ['40868.87', '0.000301'], ['40887.74', '0.000301'], ['40918.87', '0.000301'], ['41000', '51.001146'], ['41074.12', '0.000301'], ['41097.5', '0.000424'], ['41168.87', '0.000903'], ['41200', '0.088262'], ['41240', '0.000467'], ['41250', '0.000602'], ['41268.87', '0.000301'], ['41341.4', '0.000424'], ['41400', '0.001984'], ['41418.87', '0.000301'], ['41500', '0.001737']]}}\n",
      "{'topic': 'depth', 'params': {'symbol': 'BTCUSDT', 'binary': 'false', 'symbolName': 'BTCUSDT'}, 'data': {'s': 'BTCUSDT', 't': 1650335616586, 'v': '722917_1630620_2', 'b': [['39683.85', '0.001'], ['39390.2', '0.000425'], ['39381.13', '0.000302'], ['39326.57', '0.015649'], ['39311.88', '0.015422'], ['39301.52', '0.02155'], ['39301.51', '0.026022'], ['39276.46', '0.009544'], ['39264.6', '0.019654'], ['39255.43', '0.027999'], ['39251.41', '0.008698'], ['39232.06', '0.00741'], ['39232.05', '0.010325'], ['39231.44', '0.028113'], ['39226.35', '0.028537'], ['39200', '0.005183'], ['39146.3', '0.000425'], ['39000', '0.005514'], ['38800', '0.005183'], ['38750.8', '0.000302'], ['38400', '0.005183'], ['38320', '0.081663'], ['38000', '0.005183'], ['37600', '0.005183'], ['37360', '0.081663'], ['37200', '0.005183'], ['36834', '0.001668'], ['36800', '0.005183'], ['36400', '0.038429'], ['36000', '0.005183'], ['35600', '0.005183'], ['35440', '0.081663'], ['35200', '0.005183'], ['34800', '0.005183'], ['34480', '0.081663'], ['34400', '0.005183'], ['34000', '0.005183'], ['33600', '0.005183'], ['33520', '0.081663'], ['33200', '0.005183']], 'a': [['39763.03', '0.001'], ['39763.18', '1'], ['39878', '0.000424'], ['40000', '0.005177'], ['40121.9', '0.000424'], ['40221.99', '2929.417799'], ['40240', '0.081581'], ['40300', '100'], ['40331.13', '0.000602'], ['40365.8', '0.000424'], ['40400', '0.005177'], ['40412.36', '1'], ['40466.21', '0.000675'], ['40468.87', '0.000301'], ['40471.5', '0.02'], ['40500', '0.000301'], ['40516.21', '0.000675'], ['40600', '0.010476'], ['40609.7', '0.000424'], ['40655', '0.002'], ['40666', '45.993092'], ['40668.87', '0.000301'], ['40750', '0.000301'], ['40800', '0.006201'], ['40853.6', '0.000424'], ['40868.87', '0.000301'], ['40887.74', '0.000301'], ['40918.87', '0.000301'], ['41000', '51.001146'], ['41074.12', '0.000301'], ['41097.5', '0.000424'], ['41168.87', '0.000903'], ['41200', '0.088262'], ['41240', '0.000467'], ['41250', '0.000602'], ['41268.87', '0.000301'], ['41341.4', '0.000424'], ['41400', '0.001984'], ['41418.87', '0.000301'], ['41500', '0.001737']]}}\n",
      "{'topic': 'depth', 'params': {'symbol': 'BTCUSDT', 'binary': 'false', 'symbolName': 'BTCUSDT'}, 'data': {'s': 'BTCUSDT', 't': 1650335617087, 'v': '722918_1630623_2', 'b': [['39683.85', '0.001'], ['39390.2', '0.000425'], ['39381.13', '0.000302'], ['39326.57', '0.015649'], ['39301.52', '0.032106'], ['39301.51', '0.026022'], ['39276.47', '0.026389'], ['39276.46', '0.009544'], ['39264.6', '0.019654'], ['39255.43', '0.027999'], ['39251.41', '0.008698'], ['39232.06', '0.00741'], ['39232.05', '0.010325'], ['39231.44', '0.028113'], ['39226.35', '0.028537'], ['39200', '0.005183'], ['39146.3', '0.000425'], ['39000', '0.005514'], ['38800', '0.005183'], ['38750.8', '0.000302'], ['38400', '0.005183'], ['38320', '0.081663'], ['38000', '0.005183'], ['37600', '0.005183'], ['37360', '0.081663'], ['37200', '0.005183'], ['36834', '0.001668'], ['36800', '0.005183'], ['36400', '0.038429'], ['36000', '0.005183'], ['35600', '0.005183'], ['35440', '0.081663'], ['35200', '0.005183'], ['34800', '0.005183'], ['34480', '0.081663'], ['34400', '0.005183'], ['34000', '0.005183'], ['33600', '0.005183'], ['33520', '0.081663'], ['33200', '0.005183']], 'a': [['39763.03', '0.001'], ['39763.18', '1'], ['39878', '0.000424'], ['40000', '0.005177'], ['40121.9', '0.000424'], ['40221.99', '2929.417799'], ['40240', '0.081581'], ['40300', '100'], ['40331.13', '0.000602'], ['40365.8', '0.000424'], ['40400', '0.005177'], ['40412.36', '1'], ['40466.21', '0.000675'], ['40468.87', '0.000301'], ['40471.5', '0.02'], ['40500', '0.000301'], ['40516.21', '0.000675'], ['40600', '0.010476'], ['40609.7', '0.000424'], ['40655', '0.002'], ['40666', '45.993092'], ['40668.87', '0.000301'], ['40750', '0.000301'], ['40800', '0.006201'], ['40853.6', '0.000424'], ['40868.87', '0.000301'], ['40887.74', '0.000301'], ['40918.87', '0.000301'], ['41000', '51.001146'], ['41074.12', '0.000301'], ['41097.5', '0.000424'], ['41168.87', '0.000903'], ['41200', '0.088262'], ['41240', '0.000467'], ['41250', '0.000602'], ['41268.87', '0.000301'], ['41341.4', '0.000424'], ['41400', '0.001984'], ['41418.87', '0.000301'], ['41500', '0.001737']]}}\n",
      "{'topic': 'orderBookL2_25.BTCUSD', 'type': 'snapshot', 'data': [{'price': '40621.00', 'symbol': 'BTCUSD', 'id': 406210000, 'side': 'Buy', 'size': 25}, {'price': '40622.00', 'symbol': 'BTCUSD', 'id': 406220000, 'side': 'Buy', 'size': 53}, {'price': '40623.00', 'symbol': 'BTCUSD', 'id': 406230000, 'side': 'Buy', 'size': 25}, {'price': '40624.00', 'symbol': 'BTCUSD', 'id': 406240000, 'side': 'Buy', 'size': 23}, {'price': '40625.00', 'symbol': 'BTCUSD', 'id': 406250000, 'side': 'Buy', 'size': 25}, {'price': '40626.00', 'symbol': 'BTCUSD', 'id': 406260000, 'side': 'Buy', 'size': 53}, {'price': '40627.00', 'symbol': 'BTCUSD', 'id': 406270000, 'side': 'Buy', 'size': 25}, {'price': '40628.00', 'symbol': 'BTCUSD', 'id': 406280000, 'side': 'Buy', 'size': 23}, {'price': '40629.00', 'symbol': 'BTCUSD', 'id': 406290000, 'side': 'Buy', 'size': 25}, {'price': '40630.00', 'symbol': 'BTCUSD', 'id': 406300000, 'side': 'Buy', 'size': 53}, {'price': '40632.00', 'symbol': 'BTCUSD', 'id': 406320000, 'side': 'Buy', 'size': 23}, {'price': '40633.00', 'symbol': 'BTCUSD', 'id': 406330000, 'side': 'Buy', 'size': 1025}, {'price': '40634.00', 'symbol': 'BTCUSD', 'id': 406340000, 'side': 'Buy', 'size': 53}, {'price': '40637.00', 'symbol': 'BTCUSD', 'id': 406370000, 'side': 'Buy', 'size': 25}, {'price': '40638.00', 'symbol': 'BTCUSD', 'id': 406380000, 'side': 'Buy', 'size': 53}, {'price': '40642.00', 'symbol': 'BTCUSD', 'id': 406420000, 'side': 'Buy', 'size': 53}, {'price': '40688.00', 'symbol': 'BTCUSD', 'id': 406880000, 'side': 'Buy', 'size': 44140}, {'price': '40689.50', 'symbol': 'BTCUSD', 'id': 406895000, 'side': 'Buy', 'size': 50603}, {'price': '40701.00', 'symbol': 'BTCUSD', 'id': 407010000, 'side': 'Buy', 'size': 92120}, {'price': '40701.50', 'symbol': 'BTCUSD', 'id': 407015000, 'side': 'Buy', 'size': 46750}, {'price': '40702.00', 'symbol': 'BTCUSD', 'id': 407020000, 'side': 'Buy', 'size': 9780}, {'price': '40702.50', 'symbol': 'BTCUSD', 'id': 407025000, 'side': 'Buy', 'size': 27780}, {'price': '40703.00', 'symbol': 'BTCUSD', 'id': 407030000, 'side': 'Buy', 'size': 53500}, {'price': '40703.50', 'symbol': 'BTCUSD', 'id': 407035000, 'side': 'Buy', 'size': 99150}, {'price': '40704.00', 'symbol': 'BTCUSD', 'id': 407040000, 'side': 'Buy', 'size': 84555}, {'price': '40706.50', 'symbol': 'BTCUSD', 'id': 407065000, 'side': 'Sell', 'size': 49050}, {'price': '40707.00', 'symbol': 'BTCUSD', 'id': 407070000, 'side': 'Sell', 'size': 117300}, {'price': '40707.50', 'symbol': 'BTCUSD', 'id': 407075000, 'side': 'Sell', 'size': 27430}, {'price': '40708.00', 'symbol': 'BTCUSD', 'id': 407080000, 'side': 'Sell', 'size': 144670}, {'price': '40708.50', 'symbol': 'BTCUSD', 'id': 407085000, 'side': 'Sell', 'size': 70700}, {'price': '40709.00', 'symbol': 'BTCUSD', 'id': 407090000, 'side': 'Sell', 'size': 80370}, {'price': '40709.50', 'symbol': 'BTCUSD', 'id': 407095000, 'side': 'Sell', 'size': 84330}, {'price': '40719.50', 'symbol': 'BTCUSD', 'id': 407195000, 'side': 'Sell', 'size': 56150}, {'price': '40763.50', 'symbol': 'BTCUSD', 'id': 407635000, 'side': 'Sell', 'size': 400}, {'price': '40773.50', 'symbol': 'BTCUSD', 'id': 407735000, 'side': 'Sell', 'size': 1}, {'price': '40774.50', 'symbol': 'BTCUSD', 'id': 407745000, 'side': 'Sell', 'size': 2}, {'price': '40775.50', 'symbol': 'BTCUSD', 'id': 407755000, 'side': 'Sell', 'size': 1}, {'price': '40776.50', 'symbol': 'BTCUSD', 'id': 407765000, 'side': 'Sell', 'size': 2}, {'price': '40777.50', 'symbol': 'BTCUSD', 'id': 407775000, 'side': 'Sell', 'size': 1}, {'price': '40778.50', 'symbol': 'BTCUSD', 'id': 407785000, 'side': 'Sell', 'size': 1}, {'price': '40779.50', 'symbol': 'BTCUSD', 'id': 407795000, 'side': 'Sell', 'size': 1}, {'price': '40780.50', 'symbol': 'BTCUSD', 'id': 407805000, 'side': 'Sell', 'size': 2}, {'price': '40781.50', 'symbol': 'BTCUSD', 'id': 407815000, 'side': 'Sell', 'size': 1}, {'price': '40782.50', 'symbol': 'BTCUSD', 'id': 407825000, 'side': 'Sell', 'size': 2}, {'price': '40783.50', 'symbol': 'BTCUSD', 'id': 407835000, 'side': 'Sell', 'size': 1}, {'price': '40784.50', 'symbol': 'BTCUSD', 'id': 407845000, 'side': 'Sell', 'size': 3}, {'price': '40785.50', 'symbol': 'BTCUSD', 'id': 407855000, 'side': 'Sell', 'size': 29496}, {'price': '40786.50', 'symbol': 'BTCUSD', 'id': 407865000, 'side': 'Sell', 'size': 2}, {'price': '40796.50', 'symbol': 'BTCUSD', 'id': 407965000, 'side': 'Sell', 'size': 89392}, {'price': '40836.00', 'symbol': 'BTCUSD', 'id': 408360000, 'side': 'Sell', 'size': 53}], 'cross_seq': 4992464547, 'timestamp_e6': 1650335617473231}\n",
      "{'topic': 'orderBookL2_25.BTCUSD', 'type': 'snapshot', 'data': [{'price': '40621.00', 'symbol': 'BTCUSD', 'id': 406210000, 'side': 'Buy', 'size': 25}, {'price': '40622.00', 'symbol': 'BTCUSD', 'id': 406220000, 'side': 'Buy', 'size': 53}, {'price': '40623.00', 'symbol': 'BTCUSD', 'id': 406230000, 'side': 'Buy', 'size': 25}, {'price': '40624.00', 'symbol': 'BTCUSD', 'id': 406240000, 'side': 'Buy', 'size': 23}, {'price': '40625.00', 'symbol': 'BTCUSD', 'id': 406250000, 'side': 'Buy', 'size': 25}, {'price': '40626.00', 'symbol': 'BTCUSD', 'id': 406260000, 'side': 'Buy', 'size': 53}, {'price': '40627.00', 'symbol': 'BTCUSD', 'id': 406270000, 'side': 'Buy', 'size': 25}, {'price': '40628.00', 'symbol': 'BTCUSD', 'id': 406280000, 'side': 'Buy', 'size': 23}, {'price': '40629.00', 'symbol': 'BTCUSD', 'id': 406290000, 'side': 'Buy', 'size': 25}, {'price': '40630.00', 'symbol': 'BTCUSD', 'id': 406300000, 'side': 'Buy', 'size': 53}, {'price': '40632.00', 'symbol': 'BTCUSD', 'id': 406320000, 'side': 'Buy', 'size': 23}, {'price': '40633.00', 'symbol': 'BTCUSD', 'id': 406330000, 'side': 'Buy', 'size': 1025}, {'price': '40634.00', 'symbol': 'BTCUSD', 'id': 406340000, 'side': 'Buy', 'size': 53}, {'price': '40637.00', 'symbol': 'BTCUSD', 'id': 406370000, 'side': 'Buy', 'size': 25}, {'price': '40638.00', 'symbol': 'BTCUSD', 'id': 406380000, 'side': 'Buy', 'size': 53}, {'price': '40642.00', 'symbol': 'BTCUSD', 'id': 406420000, 'side': 'Buy', 'size': 53}, {'price': '40688.00', 'symbol': 'BTCUSD', 'id': 406880000, 'side': 'Buy', 'size': 44140}, {'price': '40689.50', 'symbol': 'BTCUSD', 'id': 406895000, 'side': 'Buy', 'size': 49990}, {'price': '40701.00', 'symbol': 'BTCUSD', 'id': 407010000, 'side': 'Buy', 'size': 92120}, {'price': '40701.50', 'symbol': 'BTCUSD', 'id': 407015000, 'side': 'Buy', 'size': 46750}, {'price': '40702.00', 'symbol': 'BTCUSD', 'id': 407020000, 'side': 'Buy', 'size': 9780}, {'price': '40702.50', 'symbol': 'BTCUSD', 'id': 407025000, 'side': 'Buy', 'size': 27780}, {'price': '40703.00', 'symbol': 'BTCUSD', 'id': 407030000, 'side': 'Buy', 'size': 53500}, {'price': '40703.50', 'symbol': 'BTCUSD', 'id': 407035000, 'side': 'Buy', 'size': 99150}, {'price': '40704.00', 'symbol': 'BTCUSD', 'id': 407040000, 'side': 'Buy', 'size': 84555}, {'price': '40706.50', 'symbol': 'BTCUSD', 'id': 407065000, 'side': 'Sell', 'size': 49050}, {'price': '40707.00', 'symbol': 'BTCUSD', 'id': 407070000, 'side': 'Sell', 'size': 117300}, {'price': '40707.50', 'symbol': 'BTCUSD', 'id': 407075000, 'side': 'Sell', 'size': 27430}, {'price': '40708.00', 'symbol': 'BTCUSD', 'id': 407080000, 'side': 'Sell', 'size': 144670}, {'price': '40708.50', 'symbol': 'BTCUSD', 'id': 407085000, 'side': 'Sell', 'size': 70700}, {'price': '40709.00', 'symbol': 'BTCUSD', 'id': 407090000, 'side': 'Sell', 'size': 80370}, {'price': '40709.50', 'symbol': 'BTCUSD', 'id': 407095000, 'side': 'Sell', 'size': 84330}, {'price': '40719.50', 'symbol': 'BTCUSD', 'id': 407195000, 'side': 'Sell', 'size': 56150}, {'price': '40763.50', 'symbol': 'BTCUSD', 'id': 407635000, 'side': 'Sell', 'size': 400}, {'price': '40773.50', 'symbol': 'BTCUSD', 'id': 407735000, 'side': 'Sell', 'size': 1}, {'price': '40774.50', 'symbol': 'BTCUSD', 'id': 407745000, 'side': 'Sell', 'size': 2}, {'price': '40775.50', 'symbol': 'BTCUSD', 'id': 407755000, 'side': 'Sell', 'size': 1}, {'price': '40776.50', 'symbol': 'BTCUSD', 'id': 407765000, 'side': 'Sell', 'size': 2}, {'price': '40777.50', 'symbol': 'BTCUSD', 'id': 407775000, 'side': 'Sell', 'size': 1}, {'price': '40778.50', 'symbol': 'BTCUSD', 'id': 407785000, 'side': 'Sell', 'size': 1}, {'price': '40779.50', 'symbol': 'BTCUSD', 'id': 407795000, 'side': 'Sell', 'size': 1}, {'price': '40780.50', 'symbol': 'BTCUSD', 'id': 407805000, 'side': 'Sell', 'size': 2}, {'price': '40781.50', 'symbol': 'BTCUSD', 'id': 407815000, 'side': 'Sell', 'size': 1}, {'price': '40782.50', 'symbol': 'BTCUSD', 'id': 407825000, 'side': 'Sell', 'size': 2}, {'price': '40783.50', 'symbol': 'BTCUSD', 'id': 407835000, 'side': 'Sell', 'size': 1}, {'price': '40784.50', 'symbol': 'BTCUSD', 'id': 407845000, 'side': 'Sell', 'size': 3}, {'price': '40785.50', 'symbol': 'BTCUSD', 'id': 407855000, 'side': 'Sell', 'size': 29496}, {'price': '40786.50', 'symbol': 'BTCUSD', 'id': 407865000, 'side': 'Sell', 'size': 2}, {'price': '40796.50', 'symbol': 'BTCUSD', 'id': 407965000, 'side': 'Sell', 'size': 89392}, {'price': '40836.00', 'symbol': 'BTCUSD', 'id': 408360000, 'side': 'Sell', 'size': 53}], 'cross_seq': 4992464548, 'timestamp_e6': 1650335617553295}\n"
     ]
    },
    {
     "name": "stdout",
     "output_type": "stream",
     "text": [
      "{'topic': 'depth', 'params': {'symbol': 'BTCUSDT', 'binary': 'false', 'symbolName': 'BTCUSDT'}, 'data': {'s': 'BTCUSDT', 't': 1650335618089, 'v': '722919_1630627_2', 'b': [['39683.85', '0.001'], ['39390.2', '0.000425'], ['39381.13', '0.000302'], ['39326.57', '0.026278'], ['39301.51', '0.026022'], ['39276.47', '0.026389'], ['39276.46', '0.009544'], ['39264.6', '0.019654'], ['39255.43', '0.027999'], ['39251.41', '0.008698'], ['39232.06', '0.00741'], ['39232.05', '0.010325'], ['39231.44', '0.028113'], ['39200', '0.005183'], ['39146.3', '0.000425'], ['39000', '0.005514'], ['38800', '0.005183'], ['38750.8', '0.000302'], ['38400', '0.005183'], ['38320', '0.081663'], ['38000', '0.005183'], ['37600', '0.005183'], ['37360', '0.081663'], ['37200', '0.005183'], ['36834', '0.001668'], ['36800', '0.005183'], ['36400', '0.038429'], ['36000', '0.005183'], ['35600', '0.005183'], ['35440', '0.081663'], ['35200', '0.005183'], ['34800', '0.005183'], ['34480', '0.081663'], ['34400', '0.005183'], ['34000', '0.005183'], ['33600', '0.005183'], ['33520', '0.081663'], ['33200', '0.005183'], ['32800', '0.005183'], ['32560', '0.081663']], 'a': [['39763.03', '0.001'], ['39763.18', '1'], ['39878', '0.000424'], ['40000', '0.005177'], ['40121.9', '0.000424'], ['40221.99', '2929.417799'], ['40240', '0.081581'], ['40300', '100'], ['40331.13', '0.000602'], ['40365.8', '0.000424'], ['40400', '0.005177'], ['40412.36', '1'], ['40466.21', '0.000675'], ['40468.87', '0.000301'], ['40471.5', '0.02'], ['40500', '0.000301'], ['40516.21', '0.000675'], ['40600', '0.010476'], ['40609.7', '0.000424'], ['40655', '0.002'], ['40666', '45.993092'], ['40668.87', '0.000301'], ['40750', '0.000301'], ['40800', '0.006201'], ['40853.6', '0.000424'], ['40868.87', '0.000301'], ['40887.74', '0.000301'], ['40918.87', '0.000301'], ['41000', '51.001146'], ['41074.12', '0.000301'], ['41097.5', '0.000424'], ['41168.87', '0.000903'], ['41200', '0.088262'], ['41240', '0.000467'], ['41250', '0.000602'], ['41268.87', '0.000301'], ['41341.4', '0.000424'], ['41400', '0.001984'], ['41418.87', '0.000301'], ['41500', '0.001737']]}}\n",
      "{'topic': 'orderBookL2_25.BTCUSD', 'type': 'snapshot', 'data': [{'price': '40621.00', 'symbol': 'BTCUSD', 'id': 406210000, 'side': 'Buy', 'size': 25}, {'price': '40622.00', 'symbol': 'BTCUSD', 'id': 406220000, 'side': 'Buy', 'size': 53}, {'price': '40623.00', 'symbol': 'BTCUSD', 'id': 406230000, 'side': 'Buy', 'size': 25}, {'price': '40624.00', 'symbol': 'BTCUSD', 'id': 406240000, 'side': 'Buy', 'size': 23}, {'price': '40625.00', 'symbol': 'BTCUSD', 'id': 406250000, 'side': 'Buy', 'size': 25}, {'price': '40626.00', 'symbol': 'BTCUSD', 'id': 406260000, 'side': 'Buy', 'size': 53}, {'price': '40627.00', 'symbol': 'BTCUSD', 'id': 406270000, 'side': 'Buy', 'size': 25}, {'price': '40628.00', 'symbol': 'BTCUSD', 'id': 406280000, 'side': 'Buy', 'size': 23}, {'price': '40629.00', 'symbol': 'BTCUSD', 'id': 406290000, 'side': 'Buy', 'size': 25}, {'price': '40630.00', 'symbol': 'BTCUSD', 'id': 406300000, 'side': 'Buy', 'size': 53}, {'price': '40632.00', 'symbol': 'BTCUSD', 'id': 406320000, 'side': 'Buy', 'size': 23}, {'price': '40633.00', 'symbol': 'BTCUSD', 'id': 406330000, 'side': 'Buy', 'size': 1025}, {'price': '40634.00', 'symbol': 'BTCUSD', 'id': 406340000, 'side': 'Buy', 'size': 53}, {'price': '40637.00', 'symbol': 'BTCUSD', 'id': 406370000, 'side': 'Buy', 'size': 25}, {'price': '40638.00', 'symbol': 'BTCUSD', 'id': 406380000, 'side': 'Buy', 'size': 53}, {'price': '40642.00', 'symbol': 'BTCUSD', 'id': 406420000, 'side': 'Buy', 'size': 53}, {'price': '40688.00', 'symbol': 'BTCUSD', 'id': 406880000, 'side': 'Buy', 'size': 44140}, {'price': '40689.50', 'symbol': 'BTCUSD', 'id': 406895000, 'side': 'Buy', 'size': 49990}, {'price': '40701.00', 'symbol': 'BTCUSD', 'id': 407010000, 'side': 'Buy', 'size': 92120}, {'price': '40701.50', 'symbol': 'BTCUSD', 'id': 407015000, 'side': 'Buy', 'size': 46750}, {'price': '40702.00', 'symbol': 'BTCUSD', 'id': 407020000, 'side': 'Buy', 'size': 9780}, {'price': '40702.50', 'symbol': 'BTCUSD', 'id': 407025000, 'side': 'Buy', 'size': 27780}, {'price': '40703.00', 'symbol': 'BTCUSD', 'id': 407030000, 'side': 'Buy', 'size': 53500}, {'price': '40703.50', 'symbol': 'BTCUSD', 'id': 407035000, 'side': 'Buy', 'size': 99150}, {'price': '40704.00', 'symbol': 'BTCUSD', 'id': 407040000, 'side': 'Buy', 'size': 84555}, {'price': '40706.50', 'symbol': 'BTCUSD', 'id': 407065000, 'side': 'Sell', 'size': 49022}, {'price': '40707.00', 'symbol': 'BTCUSD', 'id': 407070000, 'side': 'Sell', 'size': 117300}, {'price': '40707.50', 'symbol': 'BTCUSD', 'id': 407075000, 'side': 'Sell', 'size': 27430}, {'price': '40708.00', 'symbol': 'BTCUSD', 'id': 407080000, 'side': 'Sell', 'size': 144670}, {'price': '40708.50', 'symbol': 'BTCUSD', 'id': 407085000, 'side': 'Sell', 'size': 70700}, {'price': '40709.00', 'symbol': 'BTCUSD', 'id': 407090000, 'side': 'Sell', 'size': 80370}, {'price': '40709.50', 'symbol': 'BTCUSD', 'id': 407095000, 'side': 'Sell', 'size': 84330}, {'price': '40719.50', 'symbol': 'BTCUSD', 'id': 407195000, 'side': 'Sell', 'size': 56150}, {'price': '40763.50', 'symbol': 'BTCUSD', 'id': 407635000, 'side': 'Sell', 'size': 400}, {'price': '40773.50', 'symbol': 'BTCUSD', 'id': 407735000, 'side': 'Sell', 'size': 1}, {'price': '40774.50', 'symbol': 'BTCUSD', 'id': 407745000, 'side': 'Sell', 'size': 2}, {'price': '40775.50', 'symbol': 'BTCUSD', 'id': 407755000, 'side': 'Sell', 'size': 1}, {'price': '40776.50', 'symbol': 'BTCUSD', 'id': 407765000, 'side': 'Sell', 'size': 2}, {'price': '40777.50', 'symbol': 'BTCUSD', 'id': 407775000, 'side': 'Sell', 'size': 1}, {'price': '40778.50', 'symbol': 'BTCUSD', 'id': 407785000, 'side': 'Sell', 'size': 1}, {'price': '40779.50', 'symbol': 'BTCUSD', 'id': 407795000, 'side': 'Sell', 'size': 1}, {'price': '40780.50', 'symbol': 'BTCUSD', 'id': 407805000, 'side': 'Sell', 'size': 2}, {'price': '40781.50', 'symbol': 'BTCUSD', 'id': 407815000, 'side': 'Sell', 'size': 1}, {'price': '40782.50', 'symbol': 'BTCUSD', 'id': 407825000, 'side': 'Sell', 'size': 2}, {'price': '40783.50', 'symbol': 'BTCUSD', 'id': 407835000, 'side': 'Sell', 'size': 1}, {'price': '40784.50', 'symbol': 'BTCUSD', 'id': 407845000, 'side': 'Sell', 'size': 3}, {'price': '40785.50', 'symbol': 'BTCUSD', 'id': 407855000, 'side': 'Sell', 'size': 29496}, {'price': '40786.50', 'symbol': 'BTCUSD', 'id': 407865000, 'side': 'Sell', 'size': 2}, {'price': '40796.50', 'symbol': 'BTCUSD', 'id': 407965000, 'side': 'Sell', 'size': 89392}, {'price': '40836.00', 'symbol': 'BTCUSD', 'id': 408360000, 'side': 'Sell', 'size': 53}], 'cross_seq': 4992464549, 'timestamp_e6': 1650335618534157}\n"
     ]
    }
   ],
   "source": [
    "# Similarly, if you want to listen to the WebSockets of other markets:\n",
    "ws_spot = spot.WebSocket(test=True)\n",
    "# handle_orderbook() will now be called for both inverse and spot data.\n",
    "# To keep the data separate, simply create another function and pass it below.\n",
    "ws_spot.depth_v2_stream(handle_orderbook, \"BTCUSDT\")"
   ]
  },
  {
   "cell_type": "code",
   "execution_count": 22,
   "id": "ed7e0198",
   "metadata": {},
   "outputs": [],
   "source": [
    "import time\n",
    "http_spot = spot.HTTP()\n",
    "server_time = http_spot.server_time()\n",
    "\n",
    "time.localtime(server_time['result']['severTime']/1000).tm_min % 30"
   ]
  },
  {
   "cell_type": "code",
   "execution_count": 3,
   "outputs": [
    {
     "data": {
      "text/plain": "time.struct_time(tm_year=2022, tm_mon=4, tm_mday=22, tm_hour=16, tm_min=2, tm_sec=0, tm_wday=4, tm_yday=112, tm_isdst=1)"
     },
     "execution_count": 3,
     "metadata": {},
     "output_type": "execute_result"
    }
   ],
   "source": [
    "import time\n",
    "time.localtime(1650657720)"
   ],
   "metadata": {
    "collapsed": false,
    "pycharm": {
     "name": "#%%\n"
    }
   }
  },
  {
   "cell_type": "code",
   "execution_count": null,
   "id": "1ab067ed",
   "metadata": {},
   "outputs": [],
   "source": [
    "while True:\n",
    "    # Run your main trading logic here.\n",
    "    sleep(1)"
   ]
  }
 ],
 "metadata": {
  "kernelspec": {
   "display_name": "Python 3 (ipykernel)",
   "language": "python",
   "name": "python3"
  },
  "language_info": {
   "codemirror_mode": {
    "name": "ipython",
    "version": 3
   },
   "file_extension": ".py",
   "mimetype": "text/x-python",
   "name": "python",
   "nbconvert_exporter": "python",
   "pygments_lexer": "ipython3",
   "version": "3.10.4"
  }
 },
 "nbformat": 4,
 "nbformat_minor": 5
}